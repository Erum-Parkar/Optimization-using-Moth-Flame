{
 "cells": [
  {
   "cell_type": "code",
   "execution_count": 17,
   "metadata": {},
   "outputs": [],
   "source": [
    "import numpy as np\n",
    "import pandas as pd\n",
    "from sklearn.model_selection import train_test_split\n",
    "from sklearn.tree import DecisionTreeClassifier\n",
    "from sklearn.metrics import mean_squared_error as MSE\n",
    "from sklearn.metrics import accuracy_score"
   ]
  },
  {
   "attachments": {},
   "cell_type": "markdown",
   "metadata": {},
   "source": [
    "#### Using optimization"
   ]
  },
  {
   "cell_type": "code",
   "execution_count": 18,
   "metadata": {},
   "outputs": [],
   "source": [
    "def moth_flame_optimization(X_train, y_train, X_test, y_test, n_iterations=100, n_population=20, alpha=0.5, beta=0.5, gamma=1):\n",
    "    \"\"\"\n",
    "    This function implements the Moth Flame Optimization algorithm for tuning the hyperparameters of a Decision Tree Classifier.\n",
    "    \n",
    "    Parameters:\n",
    "    X_train (numpy.ndarray): The training data features\n",
    "    y_train (numpy.ndarray): The training data labels\n",
    "    X_test (numpy.ndarray): The testing data features\n",
    "    y_test (numpy.ndarray): The testing data labels\n",
    "    n_iterations (int): The number of iterations to run the algorithm (default=50)\n",
    "    n_population (int): The number of moths in the population (default=20)\n",
    "    alpha (float): The light absorption coefficient (default=0.5)\n",
    "    beta (float): The attraction coefficient (default=0.5)\n",
    "    gamma (float): The random walk step size (default=1)\n",
    "    \n",
    "    Returns:\n",
    "    dict: A dictionary containing the best hyperparameters found by the algorithm and the corresponding accuracy score\n",
    "    \"\"\"\n",
    "    try:\n",
    "        # Check if the input data is valid\n",
    "        if not isinstance(X_train, np.ndarray) or not isinstance(y_train, np.ndarray) or not isinstance(X_test, np.ndarray) or not isinstance(y_test, np.ndarray):\n",
    "            raise TypeError(\"Input data must be numpy arrays\")\n",
    "        if X_train.shape[0] != y_train.shape[0] or X_test.shape[0] != y_test.shape[0]:\n",
    "            raise ValueError(\"Number of samples in input data and labels must be equal\")\n",
    "        \n",
    "        # Define the hyperparameter search space\n",
    "        max_depth_range = range(1, 21)\n",
    "        min_samples_split_range = range(2, 21)\n",
    "        min_samples_leaf_range = range(1, 21)\n",
    "        max_features_range = [\"sqrt\", \"log2\", None]\n",
    "        \n",
    "        # Initialize the population of moths\n",
    "        population = []\n",
    "        for i in range(n_population):\n",
    "            max_depth = np.random.choice(max_depth_range)\n",
    "            min_samples_split = np.random.choice(min_samples_split_range)\n",
    "            min_samples_leaf = np.random.choice(min_samples_leaf_range)\n",
    "            max_features = np.random.choice(max_features_range)\n",
    "            moth = {\"max_depth\": max_depth, \"min_samples_split\": min_samples_split, \"min_samples_leaf\": min_samples_leaf, \"max_features\": max_features}\n",
    "            population.append(moth)\n",
    "        \n",
    "        # Evaluate the fitness of each moth in the population\n",
    "        fitness = []\n",
    "        for moth in population:\n",
    "            clf = DecisionTreeClassifier(max_depth=int(moth[\"max_depth\"]), min_samples_split=moth[\"min_samples_split\"], min_samples_leaf=moth[\"min_samples_leaf\"], max_features=moth[\"max_features\"])\n",
    "            clf.fit(X_train, y_train)\n",
    "            score = clf.score(X_test, y_test)\n",
    "            fitness.append(score)\n",
    "        \n",
    "        # Find the best moth in the population\n",
    "        best_moth = population[np.argmax(fitness)]\n",
    "        best_fitness = max(fitness)\n",
    "        \n",
    "        # Run the optimization algorithm\n",
    "        for i in range(n_iterations):\n",
    "            for j in range(n_population):\n",
    "                # Calculate the distance between the current moth and the best moth\n",
    "                distance = np.sqrt((population[j][\"max_depth\"] - best_moth[\"max_depth\"])**2 + (population[j][\"min_samples_split\"] - best_moth[\"min_samples_split\"])**2 + (population[j][\"min_samples_leaf\"] - best_moth[\"min_samples_leaf\"])**2 + (population[j][\"max_features\"] != best_moth[\"max_features\"]))\n",
    "                \n",
    "                # Calculate the intensity of the light\n",
    "                intensity = 1 / (1 + alpha * distance)\n",
    "                \n",
    "                # Calculate the direction of the movement\n",
    "                direction = np.random.uniform(low=-1, high=1, size=4)\n",
    "                \n",
    "                # Calculate the step size\n",
    "                step_size = gamma * np.abs(np.random.normal(size=4))\n",
    "                \n",
    "                # Calculate the new position of the moth\n",
    "                new_moth = {\"max_depth\": population[j][\"max_depth\"] + beta * intensity * direction[0] * step_size[0], \"min_samples_split\": population[j][\"min_samples_split\"] + beta * intensity * direction[1] * step_size[1], \"min_samples_leaf\": population[j][\"min_samples_leaf\"] + beta * intensity * direction[2] * step_size[2], \"max_features\": population[j][\"max_features\"]}\n",
    "                \n",
    "                # Check if the new position is valid\n",
    "                if new_moth[\"max_depth\"] < 1:\n",
    "                    new_moth[\"max_depth\"] = 1\n",
    "                elif new_moth[\"max_depth\"] > 20:\n",
    "                    new_moth[\"max_depth\"] = 20\n",
    "                if new_moth[\"min_samples_split\"] < 2:\n",
    "                    new_moth[\"min_samples_split\"] = 2\n",
    "                elif new_moth[\"min_samples_split\"] > 2:\n",
    "                    new_moth[\"min_samples_split\"] = 2\n",
    "                if new_moth[\"min_samples_leaf\"] < 1:\n",
    "                    new_moth[\"min_samples_leaf\"] = 1\n",
    "                elif new_moth[\"min_samples_leaf\"] > 20:\n",
    "                    new_moth[\"min_samples_leaf\"] = 20\n",
    "                \n",
    "                # Evaluate the fitness of the new moth\n",
    "                clf = DecisionTreeClassifier(max_depth=int(new_moth[\"max_depth\"]), min_samples_split=new_moth[\"min_samples_split\"], min_samples_leaf=new_moth[\"min_samples_leaf\"], max_features=new_moth[\"max_features\"])\n",
    "                clf.fit(X_train, y_train)\n",
    "                score = clf.score(X_test, y_test)\n",
    "                \n",
    "                # Update the best moth if necessary\n",
    "                if score > best_fitness:\n",
    "                    best_moth = new_moth\n",
    "                    best_fitness = score\n",
    "                \n",
    "                # Replace the current moth with the new moth if it has higher fitness\n",
    "                if score > fitness[j]:\n",
    "                    population[j] = new_moth\n",
    "                    fitness[j] = score\n",
    "        \n",
    "        # Return the best hyperparameters and the corresponding accuracy score\n",
    "        result = {\"max_depth\": int(best_moth[\"max_depth\"]), \"min_samples_split\": int(best_moth[\"min_samples_split\"]), \"min_samples_leaf\": int(best_moth[\"min_samples_leaf\"]), \"max_features\": best_moth[\"max_features\"], \"accuracy\": best_fitness}\n",
    "        return result\n",
    "    except Exception as e:\n",
    "        # Log the error\n",
    "        print(f\"Error: {e}\")\n",
    "        return 0"
   ]
  },
  {
   "cell_type": "code",
   "execution_count": 19,
   "metadata": {},
   "outputs": [],
   "source": [
    "df = pd.read_csv(\"diabetes_preprocessed.csv\")"
   ]
  },
  {
   "cell_type": "code",
   "execution_count": 20,
   "metadata": {},
   "outputs": [],
   "source": [
    "# Split the dataset into features and target variable\n",
    "X = df.drop(\"Outcome\", axis=1)\n",
    "y = df[\"Outcome\"]"
   ]
  },
  {
   "cell_type": "code",
   "execution_count": 21,
   "metadata": {},
   "outputs": [],
   "source": [
    "# Split the dataset into training and testing sets\n",
    "X_train, X_test, y_train, y_test = train_test_split(X, y, test_size=0.2, random_state=42)"
   ]
  },
  {
   "cell_type": "code",
   "execution_count": 22,
   "metadata": {},
   "outputs": [],
   "source": [
    "X_train = X_train.to_numpy()\n",
    "X_test = X_test.to_numpy()\n",
    "y_train = y_train.to_numpy()\n",
    "y_test = y_test.to_numpy()"
   ]
  },
  {
   "cell_type": "code",
   "execution_count": 23,
   "metadata": {},
   "outputs": [],
   "source": [
    "best_params_50 = moth_flame_optimization(X_train, y_train, X_test, y_test, n_iterations=50)\n",
    "best_params_100 = moth_flame_optimization(X_train, y_train, X_test, y_test, n_iterations=100)"
   ]
  },
  {
   "cell_type": "code",
   "execution_count": 24,
   "metadata": {},
   "outputs": [
    {
     "data": {
      "text/plain": [
       "{'max_depth': 17,\n",
       " 'min_samples_split': 3,\n",
       " 'min_samples_leaf': 2,\n",
       " 'max_features': 'log2',\n",
       " 'accuracy': 0.9225}"
      ]
     },
     "execution_count": 24,
     "metadata": {},
     "output_type": "execute_result"
    }
   ],
   "source": [
    "best_params_50"
   ]
  },
  {
   "cell_type": "code",
   "execution_count": 25,
   "metadata": {},
   "outputs": [
    {
     "data": {
      "text/plain": [
       "{'max_depth': 20,\n",
       " 'min_samples_split': 2,\n",
       " 'min_samples_leaf': 3,\n",
       " 'max_features': None,\n",
       " 'accuracy': 0.9175}"
      ]
     },
     "execution_count": 25,
     "metadata": {},
     "output_type": "execute_result"
    }
   ],
   "source": [
    "best_params_100"
   ]
  },
  {
   "attachments": {},
   "cell_type": "markdown",
   "metadata": {},
   "source": [
    "#### Without Optimization"
   ]
  },
  {
   "cell_type": "code",
   "execution_count": 9,
   "metadata": {},
   "outputs": [],
   "source": [
    "dt = DecisionTreeClassifier()"
   ]
  },
  {
   "cell_type": "code",
   "execution_count": 10,
   "metadata": {},
   "outputs": [
    {
     "data": {
      "text/html": [
       "<style>#sk-container-id-1 {color: black;background-color: white;}#sk-container-id-1 pre{padding: 0;}#sk-container-id-1 div.sk-toggleable {background-color: white;}#sk-container-id-1 label.sk-toggleable__label {cursor: pointer;display: block;width: 100%;margin-bottom: 0;padding: 0.3em;box-sizing: border-box;text-align: center;}#sk-container-id-1 label.sk-toggleable__label-arrow:before {content: \"▸\";float: left;margin-right: 0.25em;color: #696969;}#sk-container-id-1 label.sk-toggleable__label-arrow:hover:before {color: black;}#sk-container-id-1 div.sk-estimator:hover label.sk-toggleable__label-arrow:before {color: black;}#sk-container-id-1 div.sk-toggleable__content {max-height: 0;max-width: 0;overflow: hidden;text-align: left;background-color: #f0f8ff;}#sk-container-id-1 div.sk-toggleable__content pre {margin: 0.2em;color: black;border-radius: 0.25em;background-color: #f0f8ff;}#sk-container-id-1 input.sk-toggleable__control:checked~div.sk-toggleable__content {max-height: 200px;max-width: 100%;overflow: auto;}#sk-container-id-1 input.sk-toggleable__control:checked~label.sk-toggleable__label-arrow:before {content: \"▾\";}#sk-container-id-1 div.sk-estimator input.sk-toggleable__control:checked~label.sk-toggleable__label {background-color: #d4ebff;}#sk-container-id-1 div.sk-label input.sk-toggleable__control:checked~label.sk-toggleable__label {background-color: #d4ebff;}#sk-container-id-1 input.sk-hidden--visually {border: 0;clip: rect(1px 1px 1px 1px);clip: rect(1px, 1px, 1px, 1px);height: 1px;margin: -1px;overflow: hidden;padding: 0;position: absolute;width: 1px;}#sk-container-id-1 div.sk-estimator {font-family: monospace;background-color: #f0f8ff;border: 1px dotted black;border-radius: 0.25em;box-sizing: border-box;margin-bottom: 0.5em;}#sk-container-id-1 div.sk-estimator:hover {background-color: #d4ebff;}#sk-container-id-1 div.sk-parallel-item::after {content: \"\";width: 100%;border-bottom: 1px solid gray;flex-grow: 1;}#sk-container-id-1 div.sk-label:hover label.sk-toggleable__label {background-color: #d4ebff;}#sk-container-id-1 div.sk-serial::before {content: \"\";position: absolute;border-left: 1px solid gray;box-sizing: border-box;top: 0;bottom: 0;left: 50%;z-index: 0;}#sk-container-id-1 div.sk-serial {display: flex;flex-direction: column;align-items: center;background-color: white;padding-right: 0.2em;padding-left: 0.2em;position: relative;}#sk-container-id-1 div.sk-item {position: relative;z-index: 1;}#sk-container-id-1 div.sk-parallel {display: flex;align-items: stretch;justify-content: center;background-color: white;position: relative;}#sk-container-id-1 div.sk-item::before, #sk-container-id-1 div.sk-parallel-item::before {content: \"\";position: absolute;border-left: 1px solid gray;box-sizing: border-box;top: 0;bottom: 0;left: 50%;z-index: -1;}#sk-container-id-1 div.sk-parallel-item {display: flex;flex-direction: column;z-index: 1;position: relative;background-color: white;}#sk-container-id-1 div.sk-parallel-item:first-child::after {align-self: flex-end;width: 50%;}#sk-container-id-1 div.sk-parallel-item:last-child::after {align-self: flex-start;width: 50%;}#sk-container-id-1 div.sk-parallel-item:only-child::after {width: 0;}#sk-container-id-1 div.sk-dashed-wrapped {border: 1px dashed gray;margin: 0 0.4em 0.5em 0.4em;box-sizing: border-box;padding-bottom: 0.4em;background-color: white;}#sk-container-id-1 div.sk-label label {font-family: monospace;font-weight: bold;display: inline-block;line-height: 1.2em;}#sk-container-id-1 div.sk-label-container {text-align: center;}#sk-container-id-1 div.sk-container {/* jupyter's `normalize.less` sets `[hidden] { display: none; }` but bootstrap.min.css set `[hidden] { display: none !important; }` so we also need the `!important` here to be able to override the default hidden behavior on the sphinx rendered scikit-learn.org. See: https://github.com/scikit-learn/scikit-learn/issues/21755 */display: inline-block !important;position: relative;}#sk-container-id-1 div.sk-text-repr-fallback {display: none;}</style><div id=\"sk-container-id-1\" class=\"sk-top-container\"><div class=\"sk-text-repr-fallback\"><pre>DecisionTreeClassifier()</pre><b>In a Jupyter environment, please rerun this cell to show the HTML representation or trust the notebook. <br />On GitHub, the HTML representation is unable to render, please try loading this page with nbviewer.org.</b></div><div class=\"sk-container\" hidden><div class=\"sk-item\"><div class=\"sk-estimator sk-toggleable\"><input class=\"sk-toggleable__control sk-hidden--visually\" id=\"sk-estimator-id-1\" type=\"checkbox\" checked><label for=\"sk-estimator-id-1\" class=\"sk-toggleable__label sk-toggleable__label-arrow\">DecisionTreeClassifier</label><div class=\"sk-toggleable__content\"><pre>DecisionTreeClassifier()</pre></div></div></div></div></div>"
      ],
      "text/plain": [
       "DecisionTreeClassifier()"
      ]
     },
     "execution_count": 10,
     "metadata": {},
     "output_type": "execute_result"
    }
   ],
   "source": [
    "dt.fit(X_train, y_train)"
   ]
  },
  {
   "cell_type": "code",
   "execution_count": 11,
   "metadata": {},
   "outputs": [],
   "source": [
    "ypred = dt.predict(X_test)"
   ]
  },
  {
   "cell_type": "code",
   "execution_count": 12,
   "metadata": {},
   "outputs": [
    {
     "name": "stdout",
     "output_type": "stream",
     "text": [
      "0.9775\n"
     ]
    }
   ],
   "source": [
    "print(accuracy_score(y_test, ypred))"
   ]
  },
  {
   "cell_type": "code",
   "execution_count": 13,
   "metadata": {},
   "outputs": [
    {
     "data": {
      "text/plain": [
       "{'ccp_alpha': 0.0,\n",
       " 'class_weight': None,\n",
       " 'criterion': 'gini',\n",
       " 'max_depth': None,\n",
       " 'max_features': None,\n",
       " 'max_leaf_nodes': None,\n",
       " 'min_impurity_decrease': 0.0,\n",
       " 'min_samples_leaf': 1,\n",
       " 'min_samples_split': 2,\n",
       " 'min_weight_fraction_leaf': 0.0,\n",
       " 'random_state': None,\n",
       " 'splitter': 'best'}"
      ]
     },
     "execution_count": 13,
     "metadata": {},
     "output_type": "execute_result"
    }
   ],
   "source": [
    "dt.get_params()"
   ]
  },
  {
   "cell_type": "markdown",
   "metadata": {},
   "source": []
  }
 ],
 "metadata": {
  "kernelspec": {
   "display_name": "SYMBIOSIS",
   "language": "python",
   "name": "python3"
  },
  "language_info": {
   "codemirror_mode": {
    "name": "ipython",
    "version": 3
   },
   "file_extension": ".py",
   "mimetype": "text/x-python",
   "name": "python",
   "nbconvert_exporter": "python",
   "pygments_lexer": "ipython3",
   "version": "3.9.13"
  },
  "orig_nbformat": 4
 },
 "nbformat": 4,
 "nbformat_minor": 2
}
